{
 "cells": [
  {
   "cell_type": "code",
   "execution_count": null,
   "id": "e5d61631-fe06-40f8-a5ab-090564dd85c8",
   "metadata": {},
   "outputs": [],
   "source": [
    "# Import necessary libraries\n",
    "import pandas as pd\n",
    "import matplotlib.pyplot as plt\n",
    "import seaborn as sns\n",
    "\n",
    "# Custom modules\n",
    "import sys\n",
    "sys.path.append('../src')  # Adjust the path accordingly\n",
    "from data_preprocessing import load_data, preprocess_data\n",
    "from model import train_model, evaluate_model\n",
    "\n",
    "# Load and preprocess the data\n",
    "data = load_data('../data/creditcard.csv')\n",
    "X_train, X_test, y_train, y_test = preprocess_data(data)\n",
    "\n",
    "# EDA\n",
    "print(data.head())\n",
    "sns.countplot(x='Class', data=data)\n",
    "plt.title('Class Distribution (0: No Fraud | 1: Fraud)')\n",
    "plt.show()\n",
    "\n",
    "# Train the model\n",
    "model = train_model(X_train, y_train)\n",
    "\n",
    "# Evaluate the model\n",
    "evaluate_model(model, X_test, y_test)\n"
   ]
  },
  {
   "cell_type": "code",
   "execution_count": null,
   "id": "393a82bb-6145-45f4-85f2-676f2c9cc81d",
   "metadata": {},
   "outputs": [],
   "source": []
  }
 ],
 "metadata": {
  "kernelspec": {
   "display_name": "Python 3 (ipykernel)",
   "language": "python",
   "name": "python3"
  },
  "language_info": {
   "codemirror_mode": {
    "name": "ipython",
    "version": 3
   },
   "file_extension": ".py",
   "mimetype": "text/x-python",
   "name": "python",
   "nbconvert_exporter": "python",
   "pygments_lexer": "ipython3",
   "version": "3.11.6"
  }
 },
 "nbformat": 4,
 "nbformat_minor": 5
}
